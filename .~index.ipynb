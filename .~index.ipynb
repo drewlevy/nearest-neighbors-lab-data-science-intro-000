{
 "cells": [
  {
   "cell_type": "markdown",
   "metadata": {},
   "source": [
    "# Nearest Neighbors Lab"
   ]
  },
  {
   "cell_type": "markdown",
   "metadata": {},
   "source": [
    "### Introduction\n",
    "\n",
    "In this lab, you apply nearest neighbors technique to help a taxi company predict the length of their rides.  Imagine that we are hired to consult for LiftOff, a limo and taxi service that is just opening up in NYC.  Liftoff wants it's taxi drivers to target longer rides, as the longer the ride the more money it makes.  LiftOff has the following theory:\n",
    "\n",
    "* the pickup location of a taxi ride can help predict the length of the ride.  \n",
    "\n",
    "\n",
    "\n",
    "LiftOff asks us to do some analysis to write a function that will allow it to **predict the length of a taxi ride for any given location **.\n",
    "\n",
    "Our technique will be the following:\n",
    "  * **Collect** Obtain the data containing all of the taxi information, and only select the attributes of taxi trips that we need \n",
    "  * ** Explore ** Examine the attributes of our data, and plot some of our data on a map\n",
    "  * ** Train ** Write our nearest neighbors formula, and change the number of nearby trips to predict the length of a new trip\n",
    "  * ** Predict ** Use our function to predict trip lengths of new locations"
   ]
  },
  {
   "cell_type": "markdown",
   "metadata": {},
   "source": [
    "### Collect and Explore the data"
   ]
  },
  {
   "cell_type": "markdown",
   "metadata": {},
   "source": [
    "#### Collect the Data"
   ]
  },
  {
   "cell_type": "markdown",
   "metadata": {},
   "source": [
    "Luckily for us, [NYC Open Data](https://opendata.cityofnewyork.us/) collects information about NYC taxi trips and provides this data on [its website](https://data.cityofnewyork.us/Transportation/2014-Yellow-Taxi-Trip-Data/gn7m-em8n)."
   ]
  },
  {
   "cell_type": "markdown",
   "metadata": {},
   "source": [
    "![](./nyc-taxi.png)"
   ]
  },
  {
   "cell_type": "markdown",
   "metadata": {},
   "source": [
    "For your reading pleasure, the data has already been downloaded into the [trips.json](https://github.com/learn-co-curriculum/nearest-neighbors-lab/blob/master/trips.json) file in this lab which you can find here.  We'll use Python's `json` library to take the data from the `trips.json` file and store it as a variable in our notebook."
   ]
  },
  {
   "cell_type": "code",
   "execution_count": 1,
   "metadata": {},
   "outputs": [],
   "source": [
    "import json\n",
    "# First, read the file\n",
    "trips_file = open('trips.json')\n",
    "# Then, convert contents to list of dictionaries \n",
    "trips = json.load(trips_file)"
   ]
  },
  {
   "cell_type": "markdown",
   "metadata": {},
   "source": [
    "> Press shift + enter"
   ]
  },
  {
   "cell_type": "markdown",
   "metadata": {},
   "source": [
    "#### Explore the data"
   ]
  },
  {
   "cell_type": "markdown",
   "metadata": {},
   "source": [
    "The next step is to explore the data.  First, let's see how many trips we have."
   ]
  },
  {
   "cell_type": "code",
   "execution_count": 2,
   "metadata": {},
   "outputs": [
    {
     "data": {
      "text/plain": [
       "1000"
      ]
     },
     "execution_count": 2,
     "metadata": {},
     "output_type": "execute_result"
    }
   ],
   "source": [
    "len(trips)"
   ]
  },
  {
   "cell_type": "markdown",
   "metadata": {},
   "source": [
    "Not bad at all.  Now let's see what each individual trip looks like.  Each trip is a dictionary, so we can see the attributes of each trip with the `keys` function."
   ]
  },
  {
   "cell_type": "code",
   "execution_count": 3,
   "metadata": {
    "scrolled": true
   },
   "outputs": [
    {
     "data": {
      "text/plain": [
       "dict_keys(['dropoff_datetime', 'dropoff_latitude', 'dropoff_longitude', 'fare_amount', 'imp_surcharge', 'mta_tax', 'passenger_count', 'payment_type', 'pickup_datetime', 'pickup_latitude', 'pickup_longitude', 'rate_code', 'tip_amount', 'tolls_amount', 'total_amount', 'trip_distance', 'vendor_id'])"
      ]
     },
     "execution_count": 3,
     "metadata": {},
     "output_type": "execute_result"
    }
   ],
   "source": [
    "trips[0].keys()"
   ]
  },
  {
   "cell_type": "markdown",
   "metadata": {},
   "source": [
    "#### Limit our data"
   ]
  },
  {
   "cell_type": "markdown",
   "metadata": {},
   "source": [
    "Ok, now that we have explored some of our data, let's begin to think through what data is relevant for our task."
   ]
  },
  {
   "cell_type": "markdown",
   "metadata": {
    "collapsed": true
   },
   "source": [
    "Remember that our task is to **use the trip location to predict the length of a trip**.  So let's select the `pickup_latitude`, `pickup_longitude`, and `trip_distance` from each trip.  That will give us the trip location and related `trip_distance` for each trip.  Then based on these **actual** trip distances we can use nearest neighbors to predict an **expected** trip distance for a trip, provided an **actual** location."
   ]
  },
  {
   "cell_type": "markdown",
   "metadata": {},
   "source": [
    "** Add in about trip distance ** "
   ]
  },
  {
   "cell_type": "markdown",
   "metadata": {},
   "source": [
    "###### Write a function called `parse_trips(trips)` that returns a list of the trips with only the following attributes: \n",
    "* `trip_distance`\n",
    "* `pickup_latitude`\n",
    "* `pickup_longitude`"
   ]
  },
  {
   "cell_type": "code",
   "execution_count": 4,
   "metadata": {},
   "outputs": [],
   "source": [
    "def parse_trips(trips):\n",
    "    keys = ['pickup_latitude', 'pickup_longitude', 'trip_distance']\n",
    "    return list(map(lambda x: {k:v for k, v in x.items() if k in keys}, trips))\n",
    "    "
   ]
  },
  {
   "cell_type": "code",
   "execution_count": 5,
   "metadata": {},
   "outputs": [
    {
     "data": {
      "text/plain": [
       "{'pickup_latitude': '40.64499',\n",
       " 'pickup_longitude': '-73.781149999999997',\n",
       " 'trip_distance': '18.379999999999999'}"
      ]
     },
     "execution_count": 5,
     "metadata": {},
     "output_type": "execute_result"
    }
   ],
   "source": [
    "parsed_trips = parse_trips(trips)\n",
    "parsed_trips and parsed_trips[0]\n",
    "\n",
    "# {'pickup_latitude': '40.64499',\n",
    "#  'pickup_longitude': '-73.78115',\n",
    "#  'trip_distance': '18.38'}"
   ]
  },
  {
   "cell_type": "markdown",
   "metadata": {},
   "source": [
    "Now, there's just one change to make.  If you look at one of the trips, all of the values are strings.  Let's change them to be floats."
   ]
  },
  {
   "cell_type": "code",
   "execution_count": 6,
   "metadata": {},
   "outputs": [],
   "source": [
    "def float_values(trips):\n",
    "    return list( map( lambda x: {k:float(v) for k, v in x.items()} , trips ))"
   ]
  },
  {
   "cell_type": "code",
   "execution_count": 7,
   "metadata": {},
   "outputs": [],
   "source": [
    "cleaned_trips = float_values(parsed_trips)"
   ]
  },
  {
   "cell_type": "code",
   "execution_count": 8,
   "metadata": {},
   "outputs": [
    {
     "data": {
      "text/plain": [
       "{'pickup_latitude': 40.64499,\n",
       " 'pickup_longitude': -73.78115,\n",
       " 'trip_distance': 18.38}"
      ]
     },
     "execution_count": 8,
     "metadata": {},
     "output_type": "execute_result"
    }
   ],
   "source": [
    "cleaned_trips[0]\n",
    "\n",
    "# {'pickup_latitude': 40.64499,\n",
    "#  'pickup_longitude': -73.78115,\n",
    "#  'trip_distance': 18.38}"
   ]
  },
  {
   "cell_type": "markdown",
   "metadata": {},
   "source": [
    "### Exploring the Data"
   ]
  },
  {
   "cell_type": "markdown",
   "metadata": {},
   "source": [
    "Now that we have paired down our data, let's get a sense of our trip data.  We can use the `folium` Python library to plot a map of Manhattan, and our data.  First we must import `folium`, and then use the `Map` function to pass through a `location`, and `zoom_start`.  If a map isn't showing up below, copy and paste the command `pip install -r requirements.txt` into your terminal to install `folium` then try again."
   ]
  },
  {
   "cell_type": "code",
   "execution_count": 9,
   "metadata": {},
   "outputs": [],
   "source": [
    "import folium\n",
    "manhattan_map = folium.Map(location=[40.7589, -73.9851], zoom_start=11)"
   ]
  },
  {
   "cell_type": "code",
   "execution_count": 10,
   "metadata": {
    "scrolled": true
   },
   "outputs": [
    {
     "data": {
      "text/html": [
       "<div style=\"width:100%;\"><div style=\"position:relative;width:100%;height:0;padding-bottom:60%;\"><iframe src=\"data:text/html;charset=utf-8;base64,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\" style=\"position:absolute;width:100%;height:100%;left:0;top:0;border:none !important;\" allowfullscreen webkitallowfullscreen mozallowfullscreen></iframe></div></div>"
      ],
      "text/plain": [
       "<folium.folium.Map at 0x7f5889ebb9e8>"
      ]
     },
     "execution_count": 10,
     "metadata": {},
     "output_type": "execute_result"
    }
   ],
   "source": [
    "manhattan_map"
   ]
  },
  {
   "cell_type": "markdown",
   "metadata": {},
   "source": [
    "Ok, now let's see how we could add a dot to mark a specific location.  We'll start with Times Square."
   ]
  },
  {
   "cell_type": "code",
   "execution_count": 11,
   "metadata": {},
   "outputs": [
    {
     "data": {
      "text/plain": [
       "<folium.vector_layers.CircleMarker at 0x7f585d38cc88>"
      ]
     },
     "execution_count": 11,
     "metadata": {},
     "output_type": "execute_result"
    }
   ],
   "source": [
    "marker = folium.CircleMarker(location = [40.7589, -73.9851], radius=10)\n",
    "marker.add_to(manhattan_map)"
   ]
  },
  {
   "cell_type": "markdown",
   "metadata": {},
   "source": [
    "Above, we first create a marker.  Then we add that circle marker to the `manhattan_map` we created earlier. "
   ]
  },
  {
   "cell_type": "code",
   "execution_count": 12,
   "metadata": {
    "scrolled": false
   },
   "outputs": [
    {
     "data": {
      "text/html": [
       "<div style=\"width:100%;\"><div style=\"position:relative;width:100%;height:0;padding-bottom:60%;\"><iframe src=\"data:text/html;charset=utf-8;base64,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\" style=\"position:absolute;width:100%;height:100%;left:0;top:0;border:none !important;\" allowfullscreen webkitallowfullscreen mozallowfullscreen></iframe></div></div>"
      ],
      "text/plain": [
       "<folium.folium.Map at 0x7f5889ebb9e8>"
      ]
     },
     "execution_count": 12,
     "metadata": {},
     "output_type": "execute_result"
    }
   ],
   "source": [
    "manhattan_map"
   ]
  },
  {
   "cell_type": "markdown",
   "metadata": {},
   "source": [
    "Do you see that blue dot near Time's Square?  That is our marker.  \n",
    "\n",
    "So now that we can plot one marker on a map, we should have a sense of how we can plot many markers on a map to display our taxi ride data.  We simply plot a map, and then we add a marker for each location of a taxi trip.\n",
    "\n",
    "Now let's write some functions to allow us to plot maps and add markers a little more easily.  "
   ]
  },
  {
   "cell_type": "markdown",
   "metadata": {},
   "source": [
    "#### Writing some map plotting functions"
   ]
  },
  {
   "cell_type": "markdown",
   "metadata": {},
   "source": [
    "As a first step towards this, note that the functions to create both a marker and map each take in a location as two element list, representing the latitude and longitude values.  Take another look:\n",
    "\n",
    "```python\n",
    "marker = folium.CircleMarker(location = [40.7589, -73.9851])\n",
    "manhattan_map = folium.Map(location=[40.7589, -73.9851])\n",
    "```\n",
    "\n",
    "So let's write a function called to create this two element list from a trip.  Write a function called `location` that  takes in a trip as an argument and returns a list where the first element is the latitude and the second is the longitude.  Remember that a location looks like the following:"
   ]
  },
  {
   "cell_type": "code",
   "execution_count": 13,
   "metadata": {},
   "outputs": [
    {
     "data": {
      "text/plain": [
       "{'pickup_latitude': 40.64499,\n",
       " 'pickup_longitude': -73.78115,\n",
       " 'trip_distance': 18.38}"
      ]
     },
     "execution_count": 13,
     "metadata": {},
     "output_type": "execute_result"
    }
   ],
   "source": [
    "first_trip = {'pickup_latitude': 40.64499, 'pickup_longitude': -73.78115,  'trip_distance': 18.38}\n",
    "first_trip"
   ]
  },
  {
   "cell_type": "code",
   "execution_count": 14,
   "metadata": {},
   "outputs": [],
   "source": [
    "def location(trip):\n",
    "    #newlist=[trip['pickup_latitude'], trip['pickup_longitude']]\n",
    "    return [trip['pickup_latitude'], trip['pickup_longitude']]"
   ]
  },
  {
   "cell_type": "code",
   "execution_count": 15,
   "metadata": {},
   "outputs": [
    {
     "data": {
      "text/plain": [
       "[40.64499, -73.78115]"
      ]
     },
     "execution_count": 15,
     "metadata": {},
     "output_type": "execute_result"
    }
   ],
   "source": [
    "first_location = location(first_trip) # [40.64499, -73.78115]\n",
    "first_location # [40.64499, -73.78115]"
   ]
  },
  {
   "cell_type": "markdown",
   "metadata": {},
   "source": [
    "Ok, now that we can turn a trip into a location, let's turn a location into a marker.  Write a function called `to_marker` that takes in a location (in the form of a list) as an argument, and returns a folium `circleMarker` for that location.  The radius of the marker should always equal 6."
   ]
  },
  {
   "cell_type": "code",
   "execution_count": 16,
   "metadata": {},
   "outputs": [],
   "source": [
    "def to_marker(location):\n",
    "    marker = folium.CircleMarker(location = location, radius=6)\n",
    "    return marker"
   ]
  },
  {
   "cell_type": "code",
   "execution_count": 17,
   "metadata": {},
   "outputs": [
    {
     "ename": "TypeError",
     "evalue": "the JSON object must be str, bytes or bytearray, not 'dict'",
     "output_type": "error",
     "traceback": [
      "\u001b[0;31m\u001b[0m",
      "\u001b[0;31mTypeError\u001b[0mTraceback (most recent call last)",
      "\u001b[0;32m<ipython-input-17-aea535683066>\u001b[0m in \u001b[0;36m<module>\u001b[0;34m\u001b[0m\n\u001b[1;32m      3\u001b[0m \u001b[0;34m\u001b[0m\u001b[0m\n\u001b[1;32m      4\u001b[0m \u001b[0mtimes_square_marker\u001b[0m \u001b[0;32mand\u001b[0m \u001b[0mtimes_square_marker\u001b[0m\u001b[0;34m.\u001b[0m\u001b[0mlocation\u001b[0m \u001b[0;31m# [40.7589, -73.9851]\u001b[0m\u001b[0;34m\u001b[0m\u001b[0;34m\u001b[0m\u001b[0m\n\u001b[0;32m----> 5\u001b[0;31m \u001b[0mtimes_square_marker\u001b[0m \u001b[0;32mand\u001b[0m \u001b[0mjson\u001b[0m\u001b[0;34m.\u001b[0m\u001b[0mloads\u001b[0m\u001b[0;34m(\u001b[0m\u001b[0mtimes_square_marker\u001b[0m\u001b[0;34m.\u001b[0m\u001b[0moptions\u001b[0m\u001b[0;34m)\u001b[0m\u001b[0;34m[\u001b[0m\u001b[0;34m'radius'\u001b[0m\u001b[0;34m]\u001b[0m \u001b[0;31m# 6\u001b[0m\u001b[0;34m\u001b[0m\u001b[0;34m\u001b[0m\u001b[0m\n\u001b[0m",
      "\u001b[0;32m/opt/conda/envs/learn-env/lib/python3.6/json/__init__.py\u001b[0m in \u001b[0;36mloads\u001b[0;34m(s, encoding, cls, object_hook, parse_float, parse_int, parse_constant, object_pairs_hook, **kw)\u001b[0m\n\u001b[1;32m    346\u001b[0m         \u001b[0;32mif\u001b[0m \u001b[0;32mnot\u001b[0m \u001b[0misinstance\u001b[0m\u001b[0;34m(\u001b[0m\u001b[0ms\u001b[0m\u001b[0;34m,\u001b[0m \u001b[0;34m(\u001b[0m\u001b[0mbytes\u001b[0m\u001b[0;34m,\u001b[0m \u001b[0mbytearray\u001b[0m\u001b[0;34m)\u001b[0m\u001b[0;34m)\u001b[0m\u001b[0;34m:\u001b[0m\u001b[0;34m\u001b[0m\u001b[0;34m\u001b[0m\u001b[0m\n\u001b[1;32m    347\u001b[0m             raise TypeError('the JSON object must be str, bytes or bytearray, '\n\u001b[0;32m--> 348\u001b[0;31m                             'not {!r}'.format(s.__class__.__name__))\n\u001b[0m\u001b[1;32m    349\u001b[0m         \u001b[0ms\u001b[0m \u001b[0;34m=\u001b[0m \u001b[0ms\u001b[0m\u001b[0;34m.\u001b[0m\u001b[0mdecode\u001b[0m\u001b[0;34m(\u001b[0m\u001b[0mdetect_encoding\u001b[0m\u001b[0;34m(\u001b[0m\u001b[0ms\u001b[0m\u001b[0;34m)\u001b[0m\u001b[0;34m,\u001b[0m \u001b[0;34m'surrogatepass'\u001b[0m\u001b[0;34m)\u001b[0m\u001b[0;34m\u001b[0m\u001b[0;34m\u001b[0m\u001b[0m\n\u001b[1;32m    350\u001b[0m \u001b[0;34m\u001b[0m\u001b[0m\n",
      "\u001b[0;31mTypeError\u001b[0m: the JSON object must be str, bytes or bytearray, not 'dict'"
     ]
    }
   ],
   "source": [
    "import json\n",
    "times_square_marker = to_marker([40.7589, -73.9851])\n",
    "\n",
    "times_square_marker and times_square_marker.location # [40.7589, -73.9851]\n",
    "times_square_marker and json.loads(times_square_marker.options)['radius'] # 6"
   ]
  },
  {
   "cell_type": "markdown",
   "metadata": {},
   "source": [
    "Ok, now that we know how to produce a single marker, let's write a function to produce lots.  We can write a function called `markers_from_trips` that takes in a list of trips, and returns a marker object for each trip.  "
   ]
  },
  {
   "cell_type": "code",
   "execution_count": 18,
   "metadata": {},
   "outputs": [],
   "source": [
    "def markers_from_trips(trips):\n",
    "    return list( map( lambda x: to_marker(location(x)), trips))"
   ]
  },
  {
   "cell_type": "code",
   "execution_count": 19,
   "metadata": {},
   "outputs": [],
   "source": [
    "trip_markers = markers_from_trips(cleaned_trips)"
   ]
  },
  {
   "cell_type": "code",
   "execution_count": 20,
   "metadata": {},
   "outputs": [
    {
     "data": {
      "text/plain": [
       "[{'pickup_latitude': 40.64499,\n",
       "  'pickup_longitude': -73.78115,\n",
       "  'trip_distance': 18.38},\n",
       " {'pickup_latitude': 40.766931,\n",
       "  'pickup_longitude': -73.982098,\n",
       "  'trip_distance': 1.3},\n",
       " {'pickup_latitude': 40.77773,\n",
       "  'pickup_longitude': -73.951902,\n",
       "  'trip_distance': 4.5},\n",
       " {'pickup_latitude': 40.795678,\n",
       "  'pickup_longitude': -73.971049,\n",
       "  'trip_distance': 2.4}]"
      ]
     },
     "execution_count": 20,
     "metadata": {},
     "output_type": "execute_result"
    }
   ],
   "source": [
    "cleaned_trips[0:4]"
   ]
  },
  {
   "cell_type": "code",
   "execution_count": 28,
   "metadata": {},
   "outputs": [
    {
     "data": {
      "text/plain": [
       "[[40.64499, -73.78115],\n",
       " [40.766931, -73.982098],\n",
       " [40.77773, -73.951902],\n",
       " [40.795678, -73.971049],\n",
       " [40.762912, -73.967782],\n",
       " [40.731176, -73.991572],\n",
       " [40.800219, -73.968098],\n",
       " [40.648509, -73.783508],\n",
       " [40.721897, -73.983493],\n",
       " [40.791566, -73.972224],\n",
       " [40.744896, -73.978619],\n",
       " [40.721951, -73.844435],\n",
       " [40.732382, -74.001682],\n",
       " [40.768339, -73.961478],\n",
       " [40.775933, -73.962446],\n",
       " [40.794829, -73.971476],\n",
       " [40.758647, -73.964878],\n",
       " [40.713638, -74.011587],\n",
       " [40.77403, -73.874597],\n",
       " [40.728127, -73.99887],\n",
       " [40.759671, -73.976688],\n",
       " [40.772651, -73.967095],\n",
       " [40.770319, -73.960222],\n",
       " [40.720457, -73.988065],\n",
       " [40.754789, -73.973606],\n",
       " [40.755654, -73.985846],\n",
       " [40.741568, -73.978341],\n",
       " [40.736907, -73.98862],\n",
       " [40.76003, -73.964842],\n",
       " [40.721366, -74.008287],\n",
       " [40.760147, -73.97627],\n",
       " [40.745847, -74.001817],\n",
       " [40.753015, -73.985247],\n",
       " [40.644657, -73.782229],\n",
       " [40.738767, -74.0086],\n",
       " [40.773797, -73.871065],\n",
       " [40.743411, -73.97686],\n",
       " [40.758905, -73.967897],\n",
       " [40.733877, -73.989602],\n",
       " [40.726162, -73.983432],\n",
       " [40.775122, -73.947765],\n",
       " [40.75987, -73.978487],\n",
       " [40.707087, -73.94328],\n",
       " [40.741912, -74.003578],\n",
       " [40.769112, -73.862679],\n",
       " [40.785807, -73.976387],\n",
       " [40.7513, -73.986852],\n",
       " [40.733385, -73.987204],\n",
       " [40.760257, -73.976186],\n",
       " [40.741249, -74.005201],\n",
       " [40.759795, -73.985352],\n",
       " [40.756636, -73.9697],\n",
       " [40.73925, -74.000759],\n",
       " [40.751055, -73.97607],\n",
       " [40.723584, -73.995992],\n",
       " [40.757037, -73.929485],\n",
       " [40.743385, -73.981978],\n",
       " [40.737486, -73.978153],\n",
       " [40.77225, -73.95285],\n",
       " [40.732882, -73.981975],\n",
       " [40.774567, -73.988232],\n",
       " [40.757437, -73.964735],\n",
       " [40.789637, -73.975402],\n",
       " [40.754317, -73.992548],\n",
       " [40.745007, -73.998627],\n",
       " [40.734982, -73.990523],\n",
       " [0.0, 0.0],\n",
       " [40.738617, -73.989672],\n",
       " [40.790712, -73.972809],\n",
       " [40.750167, -73.987398],\n",
       " [40.732141, -73.98447],\n",
       " [40.765758, -73.994847],\n",
       " [40.792594, -73.964102],\n",
       " [40.762908, -73.969549],\n",
       " [40.750722, -73.968447],\n",
       " [40.769887, -73.86443],\n",
       " [40.77247, -73.982419],\n",
       " [40.764545, -73.982668],\n",
       " [40.641805, -73.78641],\n",
       " [40.75224, -73.97835],\n",
       " [40.758835, -73.988555],\n",
       " [40.722785, -73.988558],\n",
       " [40.720338, -73.993645],\n",
       " [40.72973, -73.991628],\n",
       " [40.760442, -73.958405],\n",
       " [40.756227, -73.98314],\n",
       " [40.751555, -73.992905],\n",
       " [40.71333, -74.004106],\n",
       " [40.764762, -73.991849],\n",
       " [40.763353, -73.985259],\n",
       " [40.775292, -73.982082],\n",
       " [40.779515, -73.984852],\n",
       " [40.768322, -73.982234],\n",
       " [40.766602, -73.95388],\n",
       " [40.763684, -73.981214],\n",
       " [40.793086, -73.952092],\n",
       " [40.773602, -73.871055],\n",
       " [40.771909, -73.959023],\n",
       " [40.774029, -73.961478],\n",
       " [40.74964, -73.972212],\n",
       " [40.771542, -73.959533],\n",
       " [40.694095, -73.9839],\n",
       " [40.756312, -73.994315],\n",
       " [40.730282, -74.006652],\n",
       " [40.777707, -73.955068],\n",
       " [40.726087, -73.994962],\n",
       " [40.738385, -73.999885],\n",
       " [40.7678, -73.961987],\n",
       " [40.742682, -73.972513],\n",
       " [40.770602, -73.982262],\n",
       " [40.747967, -73.976727],\n",
       " [40.742803, -74.004093],\n",
       " [40.755521, -73.97546],\n",
       " [40.760528, -74.002757],\n",
       " [40.740732, -74.005513],\n",
       " [40.735497, -74.00601],\n",
       " [40.715387, -74.013518],\n",
       " [40.721587, -73.995427],\n",
       " [40.760057, -73.983502],\n",
       " [40.740332, -73.986289],\n",
       " [40.7455, -73.977834],\n",
       " [40.733125, -73.987273],\n",
       " [40.752092, -73.989949],\n",
       " [40.72381, -73.992617],\n",
       " [40.767446, -73.984105],\n",
       " [40.800479, -73.968083],\n",
       " [40.717055, -73.991325],\n",
       " [40.748863, -73.992155],\n",
       " [40.80474, -73.9478],\n",
       " [40.762202, -73.969015],\n",
       " [0.0, 0.0],\n",
       " [40.740407, -73.987223],\n",
       " [40.722399, -73.997097],\n",
       " [40.747572, -73.974092],\n",
       " [40.794651, -73.972048],\n",
       " [40.751087, -73.9716],\n",
       " [40.719886, -74.009981],\n",
       " [40.760887, -73.98696],\n",
       " [40.727514, -74.0073],\n",
       " [40.774453, -73.872166],\n",
       " [40.741907, -74.003545],\n",
       " [40.735118, -73.97979],\n",
       " [40.773907, -73.871275],\n",
       " [40.758937, -73.994232],\n",
       " [40.752144, -73.977199],\n",
       " [40.745642, -73.990757],\n",
       " [40.71879, -73.98984],\n",
       " [40.739945, -74.006124],\n",
       " [40.777575, -73.986287],\n",
       " [40.753632, -73.988899],\n",
       " [40.74733, -73.97703],\n",
       " [40.769822, -73.960596],\n",
       " [40.724658, -73.997131],\n",
       " [40.758345, -73.989398],\n",
       " [40.764807, -73.97669],\n",
       " [40.772847, -73.962703],\n",
       " [40.793682, -73.966972],\n",
       " [40.760007, -73.97804],\n",
       " [40.747252, -73.888215],\n",
       " [40.756392, -73.967522],\n",
       " [40.763685, -73.977714],\n",
       " [40.767068, -73.982805],\n",
       " [40.77596, -73.98728],\n",
       " [40.739617, -73.984663],\n",
       " [40.751953, -73.976404],\n",
       " [40.718635, -74.000952],\n",
       " [40.7331, -73.981375],\n",
       " [40.77463, -73.96322],\n",
       " [40.753675, -73.984942],\n",
       " [40.763262, -73.95948],\n",
       " [40.768895, -73.958237],\n",
       " [40.641375, -73.788935],\n",
       " [40.745472, -73.98666],\n",
       " [40.707562, -74.004372],\n",
       " [40.75331, -73.968992],\n",
       " [40.769545, -73.960554],\n",
       " [40.77411, -73.874625],\n",
       " [40.720615, -74.009875],\n",
       " [40.76305, -73.969831],\n",
       " [40.648605, -73.78482],\n",
       " [40.730875, -74.001527],\n",
       " [40.763843, -73.928025],\n",
       " [40.759867, -73.97835],\n",
       " [40.77302, -73.982],\n",
       " [40.767437, -73.980957],\n",
       " [40.7951, -73.97166],\n",
       " [40.78045, -73.980198],\n",
       " [40.777608, -73.956815],\n",
       " [40.783897, -73.952306],\n",
       " [40.738437, -73.999686],\n",
       " [40.766227, -73.980152],\n",
       " [40.7472, -74.007947],\n",
       " [40.729602, -73.987032],\n",
       " [40.747295, -74.000877],\n",
       " [40.764276, -73.954283],\n",
       " [40.717463, -74.005494],\n",
       " [40.756667, -73.967298],\n",
       " [40.723036, -73.988783],\n",
       " [40.742832, -73.989064],\n",
       " [40.759825, -73.970231],\n",
       " [40.770567, -73.954641],\n",
       " [40.743565, -73.988827],\n",
       " [40.761372, -73.982602],\n",
       " [40.725012, -73.995492],\n",
       " [40.751251, -73.975745],\n",
       " [40.742522, -73.993292],\n",
       " [40.762107, -73.98479],\n",
       " [40.787171, -73.953967],\n",
       " [40.739887, -74.004942],\n",
       " [40.775297, -73.982005],\n",
       " [40.743232, -73.983751],\n",
       " [40.757386, -73.987253],\n",
       " [40.749027, -73.98395],\n",
       " [40.752385, -73.978314],\n",
       " [40.721988, -73.986383],\n",
       " [40.742422, -73.991082],\n",
       " [40.735396, -73.993911],\n",
       " [40.749873, -73.991593],\n",
       " [40.779447, -73.962047],\n",
       " [40.730843, -74.00677],\n",
       " [40.750116, -73.987503],\n",
       " [40.701734, -74.011263],\n",
       " [40.72635, -73.977049],\n",
       " [40.688702, -73.98921],\n",
       " [40.771385, -73.96467],\n",
       " [40.715884, -73.959979],\n",
       " [40.790046, -73.975066],\n",
       " [40.76418, -73.97822],\n",
       " [40.76041, -73.987652],\n",
       " [40.745647, -73.978275],\n",
       " [40.793261, -73.940565],\n",
       " [40.762111, -73.968438],\n",
       " [40.74733, -73.9969],\n",
       " [40.74886, -73.988666],\n",
       " [40.730145, -73.986395],\n",
       " [40.75318, -73.973152],\n",
       " [40.829557, -73.837699],\n",
       " [40.743102, -73.973988],\n",
       " [40.750445, -73.98674],\n",
       " [40.743475, -73.923155],\n",
       " [40.762752, -73.993035],\n",
       " [40.765577, -73.979713],\n",
       " [40.750027, -73.89876],\n",
       " [40.751947, -73.986142],\n",
       " [40.71972, -74.008841],\n",
       " [40.78079, -73.946522],\n",
       " [40.751607, -73.993449],\n",
       " [40.745595, -73.988398],\n",
       " [40.72245, -73.98729],\n",
       " [40.702557, -73.93467],\n",
       " [40.734659, -73.98004],\n",
       " [40.764774, -73.992049],\n",
       " [40.723516, -73.985065],\n",
       " [40.781072, -73.983538],\n",
       " [40.793005, -73.973026],\n",
       " [40.721025, -73.993857],\n",
       " [40.768497, -73.899785],\n",
       " [40.80726, -73.954179],\n",
       " [40.773715, -73.963908],\n",
       " [40.780082, -73.956843],\n",
       " [40.741824, -73.982933],\n",
       " [40.742112, -74.004672],\n",
       " [40.725925, -74.007585],\n",
       " [40.645718, -73.776765],\n",
       " [40.718398, -73.994967],\n",
       " [0.0, 0.0],\n",
       " [40.736343, -73.99289],\n",
       " [40.753827, -73.994472],\n",
       " [40.750693, -73.971834],\n",
       " [40.745964, -73.991152],\n",
       " [40.740482, -74.004042],\n",
       " [0.0, 0.0],\n",
       " [40.803842, -73.966812],\n",
       " [40.797632, -73.969822],\n",
       " [40.645322, -73.776652],\n",
       " [40.749207, -74.003233],\n",
       " [40.765548, -73.983683],\n",
       " [40.760289, -73.931531],\n",
       " [40.778967, -73.981767],\n",
       " [40.7582, -73.973285],\n",
       " [40.730709, -73.990504],\n",
       " [40.7456, -73.97814],\n",
       " [40.719471, -73.999779],\n",
       " [40.75619, -73.974282],\n",
       " [40.639542, -73.967915],\n",
       " [40.78366, -73.97427],\n",
       " [40.7464, -73.97771],\n",
       " [40.727475, -73.98533],\n",
       " [40.735015, -74.006024],\n",
       " [0.0, 0.0],\n",
       " [0.0, 0.0],\n",
       " [40.754176, -74.04442],\n",
       " [40.740112, -73.994987],\n",
       " [40.719972, -73.987553],\n",
       " [40.70517, -74.006987],\n",
       " [40.789142, -73.970472],\n",
       " [40.749115, -73.984182],\n",
       " [40.76443, -73.992037],\n",
       " [40.756477, -73.990472],\n",
       " [40.746142, -73.984852],\n",
       " [40.747856, -73.989088],\n",
       " [40.772615, -73.964789],\n",
       " [40.761912, -73.975275],\n",
       " [40.740991, -74.005581],\n",
       " [40.764115, -73.97707],\n",
       " [40.728808, -73.987538],\n",
       " [40.725511, -73.991953],\n",
       " [40.768967, -73.954822],\n",
       " [40.75652, -73.973926],\n",
       " [40.751217, -73.970895],\n",
       " [40.779557, -73.977187],\n",
       " [40.771472, -73.8755],\n",
       " [40.73832, -73.9918],\n",
       " [40.643172, -73.789035],\n",
       " [40.769387, -73.953623],\n",
       " [40.731752, -74.000932],\n",
       " [40.745874, -73.991095],\n",
       " [40.767867, -73.963893],\n",
       " [40.766245, -73.98354],\n",
       " [40.753485, -73.97311],\n",
       " [40.726597, -73.986165],\n",
       " [40.7446, -73.985232],\n",
       " [40.756806, -73.969385],\n",
       " [40.783447, -73.947283],\n",
       " [40.758985, -73.989435],\n",
       " [40.645316, -73.776808],\n",
       " [40.762868, -73.983233],\n",
       " [40.761322, -73.975755],\n",
       " [40.771097, -73.865913],\n",
       " [40.760195, -73.967307],\n",
       " [40.73286, -74.00007],\n",
       " [40.75952, -73.985488],\n",
       " [40.821517, -73.954177],\n",
       " [40.734922, -73.990548],\n",
       " [40.757594, -73.989531],\n",
       " [40.748042, -73.880385],\n",
       " [40.74957, -73.992772],\n",
       " [40.759663, -73.981141],\n",
       " [40.756397, -73.966882],\n",
       " [40.68078, -73.967735],\n",
       " [40.749994, -73.994031],\n",
       " [40.801351, -73.961519],\n",
       " [40.766223, -73.981952],\n",
       " [40.740045, -73.982178],\n",
       " [40.801657, -73.934415],\n",
       " [40.738722, -73.987027],\n",
       " [40.742172, -74.00809],\n",
       " [40.775633, -73.98233],\n",
       " [40.792377, -73.96788],\n",
       " [40.659956, -73.99842],\n",
       " [40.7655, -73.97585],\n",
       " [40.737997, -73.992069],\n",
       " [40.711467, -73.945825],\n",
       " [0.0, 0.0],\n",
       " [40.710822, -74.015592],\n",
       " [40.763597, -73.97968],\n",
       " [40.744277, -73.973007],\n",
       " [40.774152, -73.873092],\n",
       " [40.773736, -73.959905],\n",
       " [40.740018, -74.005399],\n",
       " [40.750094, -73.979116],\n",
       " [40.741317, -73.983402],\n",
       " [40.75885, -73.965817],\n",
       " [40.687077, -73.990203],\n",
       " [40.76705, -73.979222],\n",
       " [40.72257, -73.997073],\n",
       " [40.77958, -73.957862],\n",
       " [40.7385, -73.9853],\n",
       " [40.770377, -73.982127],\n",
       " [40.75906, -73.983681],\n",
       " [40.689827, -73.99235],\n",
       " [40.766367, -73.952442],\n",
       " [40.717302, -73.99898],\n",
       " [40.642817, -73.788912],\n",
       " [40.766804, -73.969071],\n",
       " [40.762317, -73.98593],\n",
       " [40.734099, -73.999288],\n",
       " [40.770737, -73.957142],\n",
       " [40.724919, -73.998967],\n",
       " [40.729687, -73.998358],\n",
       " [40.744083, -73.985687],\n",
       " [40.726413, -73.977196],\n",
       " [40.794009, -73.966721],\n",
       " [40.74589, -73.994388],\n",
       " [40.75284, -73.989232],\n",
       " [40.777652, -73.959298],\n",
       " [40.726935, -73.991668],\n",
       " [40.74969, -73.97751],\n",
       " [40.709355, -74.016717],\n",
       " [40.750099, -73.99125],\n",
       " [40.777513, -73.948801],\n",
       " [40.64534, -73.77668],\n",
       " [40.794572, -73.97205],\n",
       " [40.76084, -73.971439],\n",
       " [40.758902, -73.979668],\n",
       " [40.756082, -73.976395],\n",
       " [40.746631, -73.9819],\n",
       " [40.787612, -73.977033],\n",
       " [40.748875, -73.982345],\n",
       " [0.0, 0.0],\n",
       " [40.734924, -73.989973],\n",
       " [40.755682, -73.979288],\n",
       " [40.757465, -73.963752],\n",
       " [40.751163, -73.994115],\n",
       " [40.754707, -73.986173],\n",
       " [40.768512, -73.965495],\n",
       " [40.770792, -73.961915],\n",
       " [40.780672, -73.952653],\n",
       " [40.733568, -73.995547],\n",
       " [40.74998, -73.99179],\n",
       " [40.72235, -73.986202],\n",
       " [40.77081, -73.956903],\n",
       " [40.771152, -73.95672],\n",
       " [40.790777, -73.973482],\n",
       " [40.716232, -74.013591],\n",
       " [40.74277, -73.984523],\n",
       " [40.726791, -73.999842],\n",
       " [40.774935, -73.963839],\n",
       " [40.752832, -73.979423],\n",
       " [40.732783, -73.985831],\n",
       " [40.75176, -73.986138],\n",
       " [40.772827, -73.981567],\n",
       " [40.786305, -73.977741],\n",
       " [40.71986, -74.01021],\n",
       " [40.748193, -73.984715],\n",
       " [40.734642, -73.992515],\n",
       " [40.758495, -73.98159],\n",
       " [40.750711, -73.991913],\n",
       " [40.751085, -73.990382],\n",
       " [40.696647, -73.99152],\n",
       " [40.766092, -73.982632],\n",
       " [40.77293, -73.88525],\n",
       " [40.644032, -73.790294],\n",
       " [40.758261, -73.970859],\n",
       " [40.778392, -73.985658],\n",
       " [40.758372, -73.963047],\n",
       " [40.752788, -73.975128],\n",
       " [40.741972, -74.007642],\n",
       " [40.764972, -73.977855],\n",
       " [40.742227, -73.982747],\n",
       " [40.743594, -73.979374],\n",
       " [40.774852, -73.961215],\n",
       " [40.786657, -73.975743],\n",
       " [40.731236, -74.001455],\n",
       " [40.724197, -73.978797],\n",
       " [40.735687, -74.005065],\n",
       " [40.724007, -73.978812],\n",
       " [40.751962, -73.993918],\n",
       " [40.744422, -73.976127],\n",
       " [40.76944, -73.952025],\n",
       " [40.755972, -73.972347],\n",
       " [40.782482, -73.957812],\n",
       " [40.739142, -74.00807],\n",
       " [40.752412, -73.977267],\n",
       " [0.0, 0.0],\n",
       " [40.771168, -73.963929],\n",
       " [40.756005, -73.973294],\n",
       " [40.778415, -73.945392],\n",
       " [40.766653, -73.957138],\n",
       " [40.746032, -73.97976],\n",
       " [40.763352, -73.996385],\n",
       " [40.755782, -73.983322],\n",
       " [40.769837, -73.982025],\n",
       " [40.773009, -73.885269],\n",
       " [40.799458, -73.968139],\n",
       " [40.777555, -73.961237],\n",
       " [40.80409, -73.966942],\n",
       " [40.713948, -73.951672],\n",
       " [40.741453, -74.006441],\n",
       " [40.79858, -73.969018],\n",
       " [40.721519, -73.956165],\n",
       " [40.744341, -74.006568],\n",
       " [40.750106, -73.991395],\n",
       " [40.815817, -73.958397],\n",
       " [40.772255, -73.982507],\n",
       " [40.756412, -73.967363],\n",
       " [40.729556, -73.99331],\n",
       " [40.774627, -73.957909],\n",
       " [40.744418, -73.983521],\n",
       " [40.795953, -73.970739],\n",
       " [40.735785, -74.006038],\n",
       " [40.741275, -73.981362],\n",
       " [40.759037, -73.968693],\n",
       " [40.7642, -73.954807],\n",
       " [40.779383, -73.95955],\n",
       " [40.72638, -74.002],\n",
       " [40.716736, -73.997696],\n",
       " [40.751872, -73.987503],\n",
       " [40.774462, -73.988552],\n",
       " [40.748208, -74.005309],\n",
       " [40.756054, -74.005378],\n",
       " [40.759193, -73.97723],\n",
       " [40.7439, -73.999577],\n",
       " [40.712612, -73.95882],\n",
       " [40.751285, -73.9712],\n",
       " [40.75262, -73.98631],\n",
       " [40.728885, -74.000534],\n",
       " [40.753302, -73.979382],\n",
       " [40.759795, -73.968202],\n",
       " [40.727368, -74.0062],\n",
       " [40.7595, -73.96904],\n",
       " [40.751837, -73.970865],\n",
       " [40.742032, -73.97492],\n",
       " [40.755123, -73.97283],\n",
       " [40.726783, -73.980283],\n",
       " [40.768924, -73.952227],\n",
       " [40.748232, -73.988848],\n",
       " [40.70205, -74.011423],\n",
       " [40.763197, -73.989376],\n",
       " [40.720794, -74.008509],\n",
       " [40.760644, -73.984531],\n",
       " [40.743367, -73.98406],\n",
       " [40.749792, -74.00267],\n",
       " [40.754807, -73.97379],\n",
       " [40.64483, -73.781578],\n",
       " [40.767759, -73.989694],\n",
       " [40.762243, -73.96815],\n",
       " [40.730735, -73.992072],\n",
       " [40.738672, -73.999515],\n",
       " [40.774752, -73.980465],\n",
       " [40.777867, -73.945725],\n",
       " [40.742502, -74.00424],\n",
       " [40.76532, -73.97557],\n",
       " [40.722856, -73.979826],\n",
       " [40.777252, -73.982625],\n",
       " [40.740912, -73.985925],\n",
       " [40.798562, -73.969052],\n",
       " [40.71422, -74.013452],\n",
       " [40.748567, -73.972642],\n",
       " [40.757222, -73.985682],\n",
       " [40.751325, -73.993982],\n",
       " [40.729357, -73.991875],\n",
       " [40.767302, -73.9646],\n",
       " [40.793391, -73.967215],\n",
       " [40.642527, -73.791427],\n",
       " [40.758769, -73.992404],\n",
       " [40.72184, -73.993307],\n",
       " [40.721116, -74.004308],\n",
       " [40.75085, -74.00562],\n",
       " [40.701535, -74.012503],\n",
       " [40.76495, -73.968502],\n",
       " [0.0, 0.0],\n",
       " [40.74892, -73.97797],\n",
       " [40.77908, -73.98498],\n",
       " [40.646587, -73.78582],\n",
       " [40.739812, -74.00549],\n",
       " [40.728841, -73.99404],\n",
       " [40.752327, -73.97917],\n",
       " [40.732893, -73.974918],\n",
       " [40.769041, -73.988708],\n",
       " [40.782595, -73.953385],\n",
       " [40.744757, -73.984962],\n",
       " [40.752422, -73.98375],\n",
       " [40.760963, -73.975273],\n",
       " [40.68118, -73.980602],\n",
       " [40.758312, -73.97752],\n",
       " [40.71897, -73.997061],\n",
       " [40.723912, -73.991242],\n",
       " [40.756415, -73.975227],\n",
       " [40.751115, -73.994153],\n",
       " [40.785935, -73.979897],\n",
       " [40.760434, -74.002849],\n",
       " [40.71597, -74.015138],\n",
       " [40.76767, -73.96166],\n",
       " [40.771907, -73.95626],\n",
       " [40.778537, -73.981967],\n",
       " [40.73111, -74.00658],\n",
       " [40.755756, -73.884413],\n",
       " [40.791595, -73.968651],\n",
       " [40.750117, -74.002532],\n",
       " [40.71242, -74.00953],\n",
       " [40.761311, -73.972672],\n",
       " [40.71592, -74.015208],\n",
       " [40.712097, -73.94075],\n",
       " [40.729574, -73.991874],\n",
       " [40.75377, -73.969407],\n",
       " [40.72269, -73.9992],\n",
       " [40.722982, -73.982842],\n",
       " [40.773595, -73.870591],\n",
       " [40.767875, -73.98311],\n",
       " [40.768197, -73.952871],\n",
       " [40.745547, -73.998795],\n",
       " [40.768712, -73.963437],\n",
       " [40.757889, -73.968702],\n",
       " [40.72067, -74.009983],\n",
       " [40.763362, -73.971497],\n",
       " [40.75185, -73.97495],\n",
       " [40.73385, -74.0027],\n",
       " [40.768718, -73.96833],\n",
       " [40.787222, -73.971638],\n",
       " [40.782367, -73.97884],\n",
       " [40.751801, -73.933138],\n",
       " [40.756307, -73.991625],\n",
       " [40.755034, -73.974168],\n",
       " [40.712003, -73.945566],\n",
       " [40.750283, -73.994667],\n",
       " [40.740555, -73.994539],\n",
       " [40.798792, -73.963192],\n",
       " [40.715947, -74.016737],\n",
       " [40.70746, -74.004712]]"
      ]
     },
     "execution_count": 28,
     "metadata": {},
     "output_type": "execute_result"
    }
   ],
   "source": [
    "trip_markers and len(trip_markers) # 1000\n",
    "list(map(lambda marker: marker.location, trip_markers[0:600]))\n",
    "# [[40.64499, -73.78115],\n",
    "#  [40.766931, -73.982098],\n",
    "#  [40.77773, -73.951902],\n",
    "#  [40.795678, -73.971049]]"
   ]
  },
  {
   "cell_type": "markdown",
   "metadata": {},
   "source": [
    "Ok, now that we have a function that creates locations, and a function that creates markers, it is time to write a function to plot a map. \n",
    "\n",
    "Write a function called `map_from` that, provided the first argument of a list location and second argument an integer representing the `zoom_start`, returns a `folium` map the corresponding location and `zoom_start` attributes.\n",
    "\n",
    "> Hint: The following is how to write a map with folium:\n",
    "> ```python \n",
    "    folium.Map(location=location, zoom_start=zoom_amount)\n",
    "> ```"
   ]
  },
  {
   "cell_type": "code",
   "execution_count": 22,
   "metadata": {},
   "outputs": [],
   "source": [
    "def map_from(location, zoom_amount):\n",
    "    return folium.Map(location=location, zoom_start=zoom_amount)"
   ]
  },
  {
   "cell_type": "code",
   "execution_count": 23,
   "metadata": {},
   "outputs": [
    {
     "ename": "AttributeError",
     "evalue": "'Map' object has no attribute 'zoom_start'",
     "output_type": "error",
     "traceback": [
      "\u001b[0;31m\u001b[0m",
      "\u001b[0;31mAttributeError\u001b[0mTraceback (most recent call last)",
      "\u001b[0;32m<ipython-input-23-9505087fb7df>\u001b[0m in \u001b[0;36m<module>\u001b[0;34m\u001b[0m\n\u001b[1;32m      1\u001b[0m \u001b[0mtimes_square_map\u001b[0m \u001b[0;34m=\u001b[0m \u001b[0mmap_from\u001b[0m\u001b[0;34m(\u001b[0m\u001b[0;34m[\u001b[0m\u001b[0;36m40.7589\u001b[0m\u001b[0;34m,\u001b[0m \u001b[0;34m-\u001b[0m\u001b[0;36m73.9851\u001b[0m\u001b[0;34m]\u001b[0m\u001b[0;34m,\u001b[0m \u001b[0;36m15\u001b[0m\u001b[0;34m)\u001b[0m\u001b[0;34m\u001b[0m\u001b[0;34m\u001b[0m\u001b[0m\n\u001b[1;32m      2\u001b[0m \u001b[0mtimes_square_map\u001b[0m \u001b[0;32mand\u001b[0m \u001b[0mtimes_square_map\u001b[0m\u001b[0;34m.\u001b[0m\u001b[0mlocation\u001b[0m \u001b[0;31m# [40.7589, -73.9851]\u001b[0m\u001b[0;34m\u001b[0m\u001b[0;34m\u001b[0m\u001b[0m\n\u001b[0;32m----> 3\u001b[0;31m \u001b[0mtimes_square_map\u001b[0m \u001b[0;32mand\u001b[0m \u001b[0mtimes_square_map\u001b[0m\u001b[0;34m.\u001b[0m\u001b[0mzoom_start\u001b[0m \u001b[0;31m# 15\u001b[0m\u001b[0;34m\u001b[0m\u001b[0;34m\u001b[0m\u001b[0m\n\u001b[0m",
      "\u001b[0;31mAttributeError\u001b[0m: 'Map' object has no attribute 'zoom_start'"
     ]
    }
   ],
   "source": [
    "times_square_map = map_from([40.7589, -73.9851], 15)\n",
    "times_square_map and times_square_map.location # [40.7589, -73.9851]\n",
    "times_square_map and times_square_map.zoom_start # 15"
   ]
  },
  {
   "cell_type": "code",
   "execution_count": 24,
   "metadata": {
    "scrolled": true
   },
   "outputs": [
    {
     "data": {
      "text/html": [
       "<div style=\"width:100%;\"><div style=\"position:relative;width:100%;height:0;padding-bottom:60%;\"><iframe src=\"data:text/html;charset=utf-8;base64,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\" style=\"position:absolute;width:100%;height:100%;left:0;top:0;border:none !important;\" allowfullscreen webkitallowfullscreen mozallowfullscreen></iframe></div></div>"
      ],
      "text/plain": [
       "<folium.folium.Map at 0x7f585d22cbe0>"
      ]
     },
     "execution_count": 24,
     "metadata": {},
     "output_type": "execute_result"
    }
   ],
   "source": [
    "times_square_marker and times_square_marker.add_to(times_square_map)\n",
    "times_square_map"
   ]
  },
  {
   "cell_type": "markdown",
   "metadata": {},
   "source": [
    "Now that we have a marker and a map, now let's write a function that adds a lot of markers to a map.  This function should add each marker in the list to the map object then return the updated map object."
   ]
  },
  {
   "cell_type": "code",
   "execution_count": 25,
   "metadata": {},
   "outputs": [],
   "source": [
    "manhattan_map = map_from([40.7589, -73.9851], 13)"
   ]
  },
  {
   "cell_type": "code",
   "execution_count": null,
   "metadata": {},
   "outputs": [],
   "source": [
    "def add_markers(markers, map_obj):\n",
    "    pass"
   ]
  },
  {
   "cell_type": "code",
   "execution_count": null,
   "metadata": {
    "scrolled": false
   },
   "outputs": [],
   "source": [
    "map_with_markers = add_markers(trip_markers, manhattan_map)"
   ]
  },
  {
   "cell_type": "code",
   "execution_count": null,
   "metadata": {},
   "outputs": [],
   "source": [
    "map_with_markers"
   ]
  },
  {
   "cell_type": "markdown",
   "metadata": {},
   "source": [
    "### Using Nearest Neighbors"
   ]
  },
  {
   "cell_type": "markdown",
   "metadata": {},
   "source": [
    "Ok, let's write a function that given a latitude and longitude will predict the distance for us.  We'll do this by first finding the nearest trips given a latitude and longitude. "
   ]
  },
  {
   "cell_type": "markdown",
   "metadata": {},
   "source": [
    "Here we once again apply the nearest neighbors formula. As a first step, write a function named `distance_location` that calculates the distance in pickup location between two trips."
   ]
  },
  {
   "cell_type": "code",
   "execution_count": null,
   "metadata": {},
   "outputs": [],
   "source": [
    "import math\n",
    "\n",
    "def distance_location(selected_trip, neighbor_trip):\n",
    "    pass"
   ]
  },
  {
   "cell_type": "code",
   "execution_count": null,
   "metadata": {},
   "outputs": [],
   "source": [
    "first_trip = {'pickup_latitude': 40.64499, 'pickup_longitude': -73.78115, 'trip_distance': 18.38}\n",
    "second_trip = {'pickup_latitude': 40.766931, 'pickup_longitude': -73.982098, 'trip_distance': 1.3}\n",
    "distance_first_and_second = distance_location(first_trip, second_trip)\n",
    "\n",
    "distance_first_and_second and round(distance_first_and_second, 3) # 0.235"
   ]
  },
  {
   "cell_type": "markdown",
   "metadata": {},
   "source": [
    "Ok, next write a function called `distance_between_neighbors` that adds a new key-value pair, called `distance_from_selected`, that calculates the distance of the `neighbor_trip` from the `selected_trip`."
   ]
  },
  {
   "cell_type": "code",
   "execution_count": null,
   "metadata": {},
   "outputs": [],
   "source": [
    "def distance_between_neighbors(selected_trip, neighbor_trip):\n",
    "    pass"
   ]
  },
  {
   "cell_type": "code",
   "execution_count": null,
   "metadata": {},
   "outputs": [],
   "source": [
    "distance_between_neighbors(first_trip, second_trip)\n",
    "\n",
    "# {'distance_from_selected': 0.23505256047318146,\n",
    "#  'pickup_latitude': 40.766931,\n",
    "#  'pickup_longitude': -73.982098,\n",
    "#  'trip_distance': 1.3}"
   ]
  },
  {
   "cell_type": "markdown",
   "metadata": {},
   "source": [
    "Ok, now our `neighbor_trip` has another attribute called `distance_from_selected`, that indicates the distance from the `neighbor_trip`'s pickup location from the `selected_trip`."
   ]
  },
  {
   "cell_type": "markdown",
   "metadata": {},
   "source": [
    "> ** Understand the data:** Our dictionary now has a few attributes, two of which say distance.  Let's make sure we understand the difference. \n",
    "> * **`distance_from_selected`:** This is our calculation of the distance of the neighbor's pickup location from the selected trip.\n",
    "> * **`trip_distance`:** This is the attribute we were provided initially.  It tells us the length of the neighbor's taxi trip from pickup to drop-off.  "
   ]
  },
  {
   "cell_type": "markdown",
   "metadata": {},
   "source": [
    "Next, write a function called `distance_all` that provided a list of neighbors, returns each of those neighbors with their respective `distance_from_selected` numbers."
   ]
  },
  {
   "cell_type": "code",
   "execution_count": null,
   "metadata": {},
   "outputs": [],
   "source": [
    "def distance_all(selected_individual, neighbors):\n",
    "    pass"
   ]
  },
  {
   "cell_type": "code",
   "execution_count": null,
   "metadata": {},
   "outputs": [],
   "source": [
    "cleaned_trips and distance_all(first_trip, cleaned_trips[0:4])"
   ]
  },
  {
   "cell_type": "markdown",
   "metadata": {},
   "source": [
    "Now write the nearest neighbors formula to calculate the distance of the `selected_trip` from all of the `cleaned_trips` in our dataset.  If no number is provided, it should return the top 3 neighbors."
   ]
  },
  {
   "cell_type": "code",
   "execution_count": null,
   "metadata": {},
   "outputs": [],
   "source": [
    "def nearest_neighbors(selected_trip, trips, number = 3):\n",
    "    pass"
   ]
  },
  {
   "cell_type": "code",
   "execution_count": null,
   "metadata": {},
   "outputs": [],
   "source": [
    "new_trip = {'pickup_latitude': 40.64499,\n",
    "'pickup_longitude': -73.78115,\n",
    "'trip_distance': 18.38}\n",
    "\n",
    "nearest_three_neighbors = nearest_neighbors(new_trip, cleaned_trips or [], number = 3)\n",
    "nearest_three_neighbors\n",
    "# [{'distance_from_selected': 0.0004569288784918792,\n",
    "#   'pickup_latitude': 40.64483,\n",
    "#   'pickup_longitude': -73.781578,\n",
    "#   'trip_distance': 7.78},\n",
    "#  {'distance_from_selected': 0.0011292165425673159,\n",
    "#   'pickup_latitude': 40.644657,\n",
    "#   'pickup_longitude': -73.782229,\n",
    "#   'trip_distance': 12.7},\n",
    "#  {'distance_from_selected': 0.0042359798158141185,\n",
    "#   'pickup_latitude': 40.648509,\n",
    "#   'pickup_longitude': -73.783508,\n",
    "#   'trip_distance': 17.3}]"
   ]
  },
  {
   "cell_type": "markdown",
   "metadata": {},
   "source": [
    "Ok great! Now that we can provide a new trip location, and find the distances of the three nearest trips, we can take  calculate an estimate of the trip distance for that new trip location.  \n",
    "\n",
    "We do so simply by calculating the average of it's nearest neighbors."
   ]
  },
  {
   "cell_type": "code",
   "execution_count": null,
   "metadata": {},
   "outputs": [],
   "source": [
    "import statistics\n",
    "def mean_distance(neighbors):\n",
    "    nearest_distances = list(map(lambda neighbor: neighbor['trip_distance'], neighbors))\n",
    "    return round(statistics.mean(nearest_distances), 3)\n",
    "\n",
    "nearest_three_neighbors = nearest_neighbors(new_trip, cleaned_trips or [], number = 3)\n",
    "distance_estimate_of_selected_trip = mean_distance(nearest_three_neighbors) # 12.593\n",
    "distance_estimate_of_selected_trip"
   ]
  },
  {
   "cell_type": "markdown",
   "metadata": {},
   "source": [
    "### Choosing the correct number of neighbors"
   ]
  },
  {
   "cell_type": "markdown",
   "metadata": {},
   "source": [
    "Now, as we know from the last lesson, one tricky element is to determine how many neighbors to choose, our $k$ value,  before calculating the average.  We want to choose our value of $k$ such that it properly matches actual data, and so that it applies to new data.  There are fancy formulas to ensure that we **train** our algorithm so that our formula is optimized for all data, but here let's see different $k$ values manually.  This is the gist of choosing our $k$ value:\n",
    "\n",
    "* If we choose a $k$ value too low, our formula will be too heavily influenced by a single neighbor, whereas if our $k$ value is too high, we will be choosing so many neighbors that our nearest neighbors formula will not be adjust enough according to locations.\n",
    "\n",
    "Ok, let's experiment with this."
   ]
  },
  {
   "cell_type": "markdown",
   "metadata": {},
   "source": [
    "First, let's choose a midtown location, to see what the trip distance would be.  A Google search reveals the coordinates of 51st and 7th avenue to be the following."
   ]
  },
  {
   "cell_type": "code",
   "execution_count": null,
   "metadata": {},
   "outputs": [],
   "source": [
    "midtown_trip = dict(pickup_latitude=40.761710, pickup_longitude=-73.982760)"
   ]
  },
  {
   "cell_type": "code",
   "execution_count": null,
   "metadata": {},
   "outputs": [],
   "source": [
    "seven_closest = nearest_neighbors(midtown_trip, cleaned_trips, number = 7)\n",
    "seven_closest\n",
    "# [{'trip_distance': 0.58,\n",
    "#   'pickup_latitude': 40.761372,\n",
    "#   'pickup_longitude': -73.982602,\n",
    "#   'distance_from_selected': 0.00037310588309379025},\n",
    "#  {'trip_distance': 0.8,\n",
    "#   'pickup_latitude': 40.762444,\n",
    "#   'pickup_longitude': -73.98244,\n",
    "#   'distance_from_selected': 0.00080072217404248},\n",
    "#  {'trip_distance': 1.4,\n",
    "#   'pickup_latitude': 40.762767,\n",
    "#   'pickup_longitude': -73.982293,\n",
    "#   'distance_from_selected': 0.0011555682584735844},\n",
    "#  {'trip_distance': 8.3,\n",
    "#   'pickup_latitude': 40.762868,\n",
    "#   'pickup_longitude': -73.983233,\n",
    "#   'distance_from_selected': 0.0012508768924205918},\n",
    "#  {'trip_distance': 1.26,\n",
    "#   'pickup_latitude': 40.760057,\n",
    "#   'pickup_longitude': -73.983502,\n",
    "#   'distance_from_selected': 0.0018118976240381972},\n",
    "#  {'trip_distance': 0.0,\n",
    "#   'pickup_latitude': 40.760644,\n",
    "#   'pickup_longitude': -73.984531,\n",
    "#   'distance_from_selected': 0.002067074502774709},\n",
    "#  {'trip_distance': 1.72,\n",
    "#   'pickup_latitude': 40.762107,\n",
    "#   'pickup_longitude': -73.98479,\n",
    "#   'distance_from_selected': 0.0020684557041472677}]"
   ]
  },
  {
   "cell_type": "markdown",
   "metadata": {},
   "source": [
    "Looking at the `distance_from_selected` it appears that our our trips are still fairly close to our selected trip.  Notice that most of the data is within a distance of .002 away, so going to the top 7 nearest neighbors didn't seem to give us neighbors too far from each other, which is a good sign.\n",
    "\n",
    "Still, it's hard to know what distance in latitude and longitude really look like, so let's map the data. "
   ]
  },
  {
   "cell_type": "code",
   "execution_count": null,
   "metadata": {},
   "outputs": [],
   "source": [
    "midtown_location = location(midtown_trip) # [40.76171, -73.98276]\n",
    "midtown_map = map_from(midtown_location, 16)\n",
    "closest_markers = markers_from_trips(seven_closest)\n",
    "\n",
    "add_markers(closest_markers, midtown_map)"
   ]
  },
  {
   "cell_type": "markdown",
   "metadata": {},
   "source": [
    "Ok.  These locations stay fairly close to our estimated location of 51st street and 7th Avenue.  So they could be a good estimate of a trip distance."
   ]
  },
  {
   "cell_type": "code",
   "execution_count": null,
   "metadata": {},
   "outputs": [],
   "source": [
    "mean_distance(seven_closest) # 2.009"
   ]
  },
  {
   "cell_type": "markdown",
   "metadata": {},
   "source": [
    "Ok, now let's try a different location"
   ]
  },
  {
   "cell_type": "code",
   "execution_count": null,
   "metadata": {},
   "outputs": [],
   "source": [
    "charging_bull_closest = nearest_neighbors({'pickup_latitude': 40.7049, 'pickup_longitude': -74.0137}, cleaned_trips, number = 12)"
   ]
  },
  {
   "cell_type": "code",
   "execution_count": null,
   "metadata": {
    "scrolled": true
   },
   "outputs": [],
   "source": [
    "mean_distance(charging_bull_closest) # 3.145"
   ]
  },
  {
   "cell_type": "markdown",
   "metadata": {},
   "source": [
    "Ok, so there appears to be a significant difference between choosing a location near Times Square versus choosing a location at Wall Street."
   ]
  },
  {
   "cell_type": "markdown",
   "metadata": {},
   "source": [
    "### Summary"
   ]
  },
  {
   "cell_type": "markdown",
   "metadata": {},
   "source": [
    "In this lab, we used the nearest neighbors function to predict the length of a taxi ride.  To do so, we selected a location, then found a number of taxi rides closest to that location, and finally took the average trip lengths of the nearest taxi rides to find an estimate of the new ride's trip length.  You can see that even with just a little bit of math and programming we can begin to make meaningful predictions with data."
   ]
  }
 ],
 "metadata": {
  "kernelspec": {
   "display_name": "Python 3",
   "language": "python",
   "name": "python3"
  },
  "language_info": {
   "codemirror_mode": {
    "name": "ipython",
    "version": 3
   },
   "file_extension": ".py",
   "mimetype": "text/x-python",
   "name": "python",
   "nbconvert_exporter": "python",
   "pygments_lexer": "ipython3",
   "version": "3.6.9"
  }
 },
 "nbformat": 4,
 "nbformat_minor": 2
}
